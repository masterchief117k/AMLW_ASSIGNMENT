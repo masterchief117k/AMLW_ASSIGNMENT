{
 "cells": [
  {
   "cell_type": "markdown",
   "metadata": {},
   "source": [
    "# Imports for the assignment "
   ]
  },
  {
   "cell_type": "code",
   "execution_count": 1,
   "metadata": {},
   "outputs": [],
   "source": [
    "import numpy as np\n",
    "from collections import defaultdict\n"
   ]
  },
  {
   "cell_type": "code",
   "execution_count": 2,
   "metadata": {},
   "outputs": [
    {
     "name": "stdout",
     "output_type": "stream",
     "text": [
      "Akash\n",
      "Sheetal\n",
      "Shyam\n",
      "Rahul\n"
     ]
    }
   ],
   "source": [
    "from collections import defaultdict\n",
    "\n",
    "# List of interests\n",
    "interests = [\n",
    "    (\"Amit\", \"Hadoop\"), (\"Amit\", \"Big Data\"), (\"Amit\", \"Java\"), (\"Amit\", \"Spark\"),\n",
    "    (\"Raj\", \"NoSQL\"), (\"Raj\", \"MongoDB\"), (\"Raj\", \"HBase\"), (\"Raj\", \"Postgres\"),\n",
    "    (\"Akash\", \"Python\"), (\"Akash\", \"scikit-learn\"), (\"Akash\", \"scipy\"), (\"Akash\", \"numpy\"), (\"Akash\", \"pandas\"),\n",
    "    (\"Sheetal\", \"R\"), (\"Sheetal\", \"Python\"), (\"Sheetal\", \"machine learning\"), (\"Sheetal\", \"Spark\"),\n",
    "    (\"Shyam\", \"Python\"), (\"Shyam\", \"R\"), (\"Shyam\", \"Java\"), (\"Shyam\", \"C++\"),\n",
    "    (\"Rahul\", \"MongoDB\"), (\"Rahul\", \"Hadoop\"), (\"Rahul\", \"Java\"), (\"Rahul\", \"Python\"),\n",
    "    (\"Miley\", \"scikit-learn\"), (\"Miley\", \"pandas\")\n",
    "]\n",
    "\n",
    "# Create a defaultdict with list as the default factory\n",
    "user_interests = defaultdict(list)\n",
    "\n",
    "# Populate the defaultdict with interests\n",
    "for i in interests:\n",
    "    user_interests[i[0]].append(i[1])\n",
    "#print(user_interests)\n",
    "for i in user_interests:\n",
    "    if 'Python' in user_interests[i] :\n",
    "       print(i)\n"
   ]
  },
  {
   "cell_type": "code",
   "execution_count": 3,
   "metadata": {},
   "outputs": [
    {
     "name": "stdout",
     "output_type": "stream",
     "text": [
      "Average salary for each year of experience:\n",
      "Years of Experience: 8.7, Average Salary: 84333.33\n",
      "Years of Experience: 0.7, Average Salary: 46500.00\n",
      "Years of Experience: 6, Average Salary: 72500.00\n",
      "Years of Experience: 7.5, Average Salary: 76500.00\n",
      "Years of Experience: 2.5, Average Salary: 60000.00\n",
      "Years of Experience: 10, Average Salary: 83000.00\n",
      "Years of Experience: 1.9, Average Salary: 48000.00\n",
      "Years of Experience: 4.2, Average Salary: 63000.00\n",
      "\n",
      "Average salary for maximum years of experience (10 years): 83000.00\n",
      "Average salary for minimum years of experience (0.7 years): 46500.00\n"
     ]
    }
   ],
   "source": [
    "from collections import defaultdict\n",
    "\n",
    "# Given dataset\n",
    "salaries_and_exp = [\n",
    "    (83000, 8.7), (82000, 8.7), (88000, 8.7), (48000, 0.7), (45000, 0.7),\n",
    "    (76000, 6), (69000, 6), (76000, 7.5), (77000, 7.5), (60000, 2.5),\n",
    "    (83000, 10), (48000, 1.9), (63000, 4.2)\n",
    "]\n",
    "\n",
    "# Create a defaultdict with list as the default factory\n",
    "salary_by_exp = defaultdict(list)\n",
    "\n",
    "# Populate the defaultdict with salaries\n",
    "for salary, exp in salaries_and_exp:\n",
    "    salary_by_exp[exp].append(salary)\n",
    "\n",
    "# Compute the average salary for each year of experience\n",
    "average_salary_by_exp = {exp: sum(salaries) / len(salaries) for exp, salaries in salary_by_exp.items()}\n",
    "\n",
    "# Find the maximum and minimum years of experience\n",
    "max_exp = max(average_salary_by_exp.keys())\n",
    "min_exp = min(average_salary_by_exp.keys())\n",
    "\n",
    "# Print the average salary for each year of experience\n",
    "print(\"Average salary for each year of experience:\")\n",
    "for exp, avg_salary in average_salary_by_exp.items():\n",
    "    print(f\"Years of Experience: {exp}, Average Salary: {avg_salary:.2f}\")\n",
    "\n",
    "# Print the average salary for maximum and minimum years of experience\n",
    "print(f\"\\nAverage salary for maximum years of experience ({max_exp} years): {average_salary_by_exp[max_exp]:.2f}\")\n",
    "print(f\"Average salary for minimum years of experience ({min_exp} years): {average_salary_by_exp[min_exp]:.2f}\")\n"
   ]
  },
  {
   "cell_type": "code",
   "execution_count": 4,
   "metadata": {},
   "outputs": [
    {
     "name": "stdout",
     "output_type": "stream",
     "text": [
      "Counter({0: 1, 2: 1, 4: 1, 6: 1, 8: 1, 10: 1, 12: 1})\n"
     ]
    }
   ],
   "source": [
    "from collections import Counter\n",
    "items = [i for i in range(0,13,2)]\n",
    "print(Counter(items))\n"
   ]
  },
  {
   "cell_type": "code",
   "execution_count": 5,
   "metadata": {},
   "outputs": [
    {
     "name": "stdout",
     "output_type": "stream",
     "text": [
      "1 3\n",
      "(4, 5)\n",
      "{'Name': 'Tim', 'Salary': 60000}\n"
     ]
    }
   ],
   "source": [
    "def func(a,b,*args,**kwargs):\n",
    "    print(a,b)\n",
    "    print(args)\n",
    "    print(kwargs)\n",
    "func(1,3,4,5,Name='Tim',Salary=60000)"
   ]
  },
  {
   "cell_type": "code",
   "execution_count": 6,
   "metadata": {},
   "outputs": [
    {
     "name": "stdout",
     "output_type": "stream",
     "text": [
      "Precision: 0.91\n",
      "Recall: 0.95\n",
      "F1 Score: 0.93\n",
      "Accuracy: 0.91\n"
     ]
    }
   ],
   "source": [
    "def precision(tp, fp):\n",
    "    return tp / (tp + fp) if (tp + fp) != 0 else 0\n",
    "\n",
    "def recall(tp, fn):\n",
    "    return tp / (tp + fn) if (tp + fn) != 0 else 0\n",
    "\n",
    "def f1_score(precision, recall):\n",
    "    return 2 * (precision * recall) / (precision + recall) if (precision + recall) != 0 else 0\n",
    "\n",
    "def accuracy(tp, tn, fp, fn):\n",
    "    return (tp + tn) / (tp + tn + fp + fn) if (tp + tn + fp + fn) != 0 else 0\n",
    "\n",
    "# Example usage\n",
    "tp = 100  # True Positives\n",
    "tn = 50   # True Negatives\n",
    "fp = 10   # False Positives\n",
    "fn = 5    # False Negatives\n",
    "\n",
    "prec = precision(tp, fp)\n",
    "rec = recall(tp, fn)\n",
    "f1 = f1_score(prec, rec)\n",
    "acc = accuracy(tp, tn, fp, fn)\n",
    "\n",
    "print(f\"Precision: {prec:.2f}\")\n",
    "print(f\"Recall: {rec:.2f}\")\n",
    "print(f\"F1 Score: {f1:.2f}\")\n",
    "print(f\"Accuracy: {acc:.2f}\")\n"
   ]
  },
  {
   "cell_type": "code",
   "execution_count": 7,
   "metadata": {},
   "outputs": [
    {
     "name": "stdout",
     "output_type": "stream",
     "text": [
      "False Positive Rate: 0.1667\n"
     ]
    }
   ],
   "source": [
    "# Given values\n",
    "TP = 100\n",
    "TN = 50\n",
    "FP = 10\n",
    "FN = 5\n",
    "\n",
    "# Calculate False Positive Rate\n",
    "FPR = FP / (FP + TN)\n",
    "\n",
    "print(f\"False Positive Rate: {FPR:.4f}\")\n"
   ]
  },
  {
   "cell_type": "code",
   "execution_count": 8,
   "metadata": {},
   "outputs": [
    {
     "data": {
      "image/png": "[encoded data removed]",
      "text/plain": [
       "<Figure size 640x480 with 2 Axes>"
      ]
     },
     "metadata": {},
     "output_type": "display_data"
    },
    {
     "name": "stdout",
     "output_type": "stream",
     "text": [
      "Accuracy: 0.60\n",
      "Precision: 0.67\n",
      "Recall: 0.67\n",
      "F1 Score: 0.67\n"
     ]
    }
   ],
   "source": [
    "import numpy as np\n",
    "import matplotlib.pyplot as plt\n",
    "from sklearn.metrics import confusion_matrix, accuracy_score, precision_score, recall_score, f1_score\n",
    "\n",
    "# Actual and predicted values\n",
    "actual = [1, 1, 1, 0, 1, 0, 1, 1, 0, 0, 1, 0, 1, 0, 1]\n",
    "predicted = [1, 0, 1, 0, 1, 1, 1, 1, 0, 0, 0, 1, 0, 1, 1]\n",
    "\n",
    "# Compute confusion matrix\n",
    "cm = confusion_matrix(actual, predicted)\n",
    "\n",
    "# Plot confusion matrix\n",
    "plt.imshow(cm, interpolation='nearest', cmap=plt.cm.Blues)\n",
    "plt.title('Confusion Matrix')\n",
    "plt.colorbar()\n",
    "tick_marks = np.arange(2)\n",
    "plt.xticks(tick_marks, ['0', '1'], rotation=45)\n",
    "plt.yticks(tick_marks, ['0', '1'])\n",
    "\n",
    "thresh = cm.max() / 2.\n",
    "for i, j in np.ndindex(cm.shape):\n",
    "    plt.text(j, i, format(cm[i, j], 'd'),\n",
    "             horizontalalignment=\"center\",\n",
    "             color=\"white\" if cm[i, j] > thresh else \"black\")\n",
    "\n",
    "plt.tight_layout()\n",
    "plt.ylabel('True label')\n",
    "plt.xlabel('Predicted label')\n",
    "plt.show()\n",
    "\n",
    "# Compute metrics\n",
    "accuracy = accuracy_score(actual, predicted)\n",
    "precision = precision_score(actual, predicted)\n",
    "recall = recall_score(actual, predicted)\n",
    "f1 = f1_score(actual, predicted)\n",
    "\n",
    "print(f\"Accuracy: {accuracy:.2f}\")\n",
    "print(f\"Precision: {precision:.2f}\")\n",
    "print(f\"Recall: {recall:.2f}\")\n",
    "print(f\"F1 Score: {f1:.2f}\")\n"
   ]
  },
  {
   "cell_type": "code",
   "execution_count": null,
   "metadata": {},
   "outputs": [
    {
     "ename": "TypeError",
     "evalue": "fun() got multiple values for argument 'k'",
     "output_type": "error",
     "traceback": [
      "\u001b[1;31m---------------------------------------------------------------------------\u001b[0m",
      "\u001b[1;31mTypeError\u001b[0m                                 Traceback (most recent call last)",
      "Cell \u001b[1;32mIn[9], line 4\u001b[0m\n\u001b[0;32m      2\u001b[0m     \u001b[38;5;28mprint\u001b[39m(a)\n\u001b[0;32m      3\u001b[0m     \u001b[38;5;28mprint\u001b[39m(ap)\n\u001b[1;32m----> 4\u001b[0m fun(\u001b[38;5;241m1\u001b[39m,\u001b[38;5;241m2\u001b[39m,\u001b[38;5;241m12\u001b[39m,\u001b[38;5;241m234\u001b[39m,\u001b[38;5;241m42\u001b[39m,\u001b[38;5;241m23\u001b[39m,k\u001b[38;5;241m=\u001b[39m\u001b[38;5;241m56\u001b[39m,l\u001b[38;5;241m=\u001b[39m\u001b[38;5;124m'\u001b[39m\u001b[38;5;124mdrs\u001b[39m\u001b[38;5;124m'\u001b[39m)\n",
      "\u001b[1;31mTypeError\u001b[0m: fun() got multiple values for argument 'k'"
     ]
    }
   ],
   "source": []
  },
  {
   "cell_type": "markdown",
   "metadata": {},
   "source": []
  }
 ],
 "metadata": {
  "kernelspec": {
   "display_name": "base",
   "language": "python",
   "name": "python3"
  },
  "language_info": {
   "codemirror_mode": {
    "name": "ipython",
    "version": 3
   },
   "file_extension": ".py",
   "mimetype": "text/x-python",
   "name": "python",
   "nbconvert_exporter": "python",
   "pygments_lexer": "ipython3",
   "version": "3.11.7"
  }
 },
 "nbformat": 4,
 "nbformat_minor": 2
}
