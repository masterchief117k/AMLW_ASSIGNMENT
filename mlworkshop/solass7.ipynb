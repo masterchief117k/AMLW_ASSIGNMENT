{
  "nbformat": 4,
  "nbformat_minor": 0,
  "metadata": {
    "colab": {
      "provenance": []
    },
    "kernelspec": {
      "name": "python3",
      "display_name": "Python 3"
    },
    "language_info": {
      "name": "python"
    }
  },
  "cells": [
    {
      "cell_type": "code",
      "execution_count": 2,
      "metadata": {
        "id": "USyLY6oADZrB"
      },
      "outputs": [],
      "source": [
        "import pandas as pd\n",
        "import matplotlib.pyplot as plt\n",
        "from sklearn.tree import DecisionTreeClassifier\n",
        "from sklearn.model_selection import train_test_split\n",
        "from sklearn.metrics import accuracy_score\n",
        "from sklearn import tree\n",
        "from sklearn.neighbors import KNeighborsClassifier\n",
        "from sklearn.ensemble import RandomForestClassifier\n",
        "\n"
      ]
    },
    {
      "cell_type": "code",
      "source": [
        "df =pd.read_csv('/content/Bengaluru_House_Data.csv')\n"
      ],
      "metadata": {
        "id": "KBp4sV0uDoFa"
      },
      "execution_count": 3,
      "outputs": []
    },
    {
      "cell_type": "code",
      "source": [
        "print(df.describe() )\n",
        "print(df.info())"
      ],
      "metadata": {
        "colab": {
          "base_uri": "https://localhost:8080/"
        },
        "id": "wmvrVfIhDzN4",
        "outputId": "d12be21e-cb71-4644-f6c8-208178b3cad7"
      },
      "execution_count": 4,
      "outputs": [
        {
          "output_type": "stream",
          "name": "stdout",
          "text": [
            "               bath       balcony         price\n",
            "count  13247.000000  12711.000000  13320.000000\n",
            "mean       2.692610      1.584376    112.565627\n",
            "std        1.341458      0.817263    148.971674\n",
            "min        1.000000      0.000000      8.000000\n",
            "25%        2.000000      1.000000     50.000000\n",
            "50%        2.000000      2.000000     72.000000\n",
            "75%        3.000000      2.000000    120.000000\n",
            "max       40.000000      3.000000   3600.000000\n",
            "<class 'pandas.core.frame.DataFrame'>\n",
            "RangeIndex: 13320 entries, 0 to 13319\n",
            "Data columns (total 9 columns):\n",
            " #   Column        Non-Null Count  Dtype  \n",
            "---  ------        --------------  -----  \n",
            " 0   area_type     13320 non-null  object \n",
            " 1   availability  13320 non-null  object \n",
            " 2   location      13319 non-null  object \n",
            " 3   size          13304 non-null  object \n",
            " 4   society       7818 non-null   object \n",
            " 5   total_sqft    13320 non-null  object \n",
            " 6   bath          13247 non-null  float64\n",
            " 7   balcony       12711 non-null  float64\n",
            " 8   price         13320 non-null  float64\n",
            "dtypes: float64(3), object(6)\n",
            "memory usage: 936.7+ KB\n",
            "None\n"
          ]
        }
      ]
    },
    {
      "cell_type": "code",
      "source": [
        "print(df.shape)"
      ],
      "metadata": {
        "colab": {
          "base_uri": "https://localhost:8080/"
        },
        "id": "2YBlJLepEMmo",
        "outputId": "68dd1c32-0d7c-4395-e929-60d45b856980"
      },
      "execution_count": 5,
      "outputs": [
        {
          "output_type": "stream",
          "name": "stdout",
          "text": [
            "(13320, 9)\n"
          ]
        }
      ]
    },
    {
      "cell_type": "code",
      "source": [
        "nums = []\n",
        "for i in df.columns:\n",
        "   if df[i].dtype =='float64':\n",
        "       nums.append(i)\n",
        "print(nums)"
      ],
      "metadata": {
        "colab": {
          "base_uri": "https://localhost:8080/"
        },
        "id": "fKuNv03qEYvZ",
        "outputId": "98cf8c11-d7d5-42f9-8fcb-8dc5339d4b30"
      },
      "execution_count": 6,
      "outputs": [
        {
          "output_type": "stream",
          "name": "stdout",
          "text": [
            "['bath', 'balcony', 'price']\n"
          ]
        }
      ]
    },
    {
      "cell_type": "code",
      "source": [
        "plt.boxplot(df[nums])\n",
        "plt.show()"
      ],
      "metadata": {
        "colab": {
          "base_uri": "https://localhost:8080/",
          "height": 430
        },
        "id": "Eb8kz24SFjGr",
        "outputId": "24609c7d-b1a0-49b3-e2e8-8e918f12d0cb"
      },
      "execution_count": 7,
      "outputs": [
        {
          "output_type": "display_data",
          "data": {
            "text/plain": [
              "<Figure size 640x480 with 1 Axes>"
            ],
            "image/png": "[encoded data removed]"
          },
          "metadata": {}
        }
      ]
    },
    {
      "cell_type": "code",
      "source": [
        "dic = {}\n",
        "for i in df.columns:\n",
        "    print(i, df[i].isnull().sum())\n",
        "    dic[i] = df[i].isnull().sum()\n",
        "\n",
        "holder = pd.DataFrame(list(dic.items()), columns=['Column', 'Missing Values'])\n"
      ],
      "metadata": {
        "colab": {
          "base_uri": "https://localhost:8080/"
        },
        "id": "j6BPAFcKF84b",
        "outputId": "84f8bda2-e711-412a-dd53-bddb98831583"
      },
      "execution_count": 8,
      "outputs": [
        {
          "output_type": "stream",
          "name": "stdout",
          "text": [
            "area_type 0\n",
            "availability 0\n",
            "location 1\n",
            "size 16\n",
            "society 5502\n",
            "total_sqft 0\n",
            "bath 73\n",
            "balcony 609\n",
            "price 0\n"
          ]
        }
      ]
    },
    {
      "cell_type": "code",
      "source": [
        "categorical_features = df.select_dtypes(include=['object', 'category']).columns\n",
        "for feature in categorical_features:\n",
        "   unique_values = df[feature].nunique()\n",
        "   print(f'Feature: {feature}, Cardinality: {unique_values}')"
      ],
      "metadata": {
        "colab": {
          "base_uri": "https://localhost:8080/"
        },
        "id": "ezF56oVPHJhH",
        "outputId": "69b73a15-6ff3-40c9-9915-f64c33fad1e0"
      },
      "execution_count": 9,
      "outputs": [
        {
          "output_type": "stream",
          "name": "stdout",
          "text": [
            "Feature: area_type, Cardinality: 4\n",
            "Feature: availability, Cardinality: 81\n",
            "Feature: location, Cardinality: 1305\n",
            "Feature: size, Cardinality: 31\n",
            "Feature: society, Cardinality: 2688\n",
            "Feature: total_sqft, Cardinality: 2117\n"
          ]
        }
      ]
    },
    {
      "cell_type": "code",
      "source": [
        "for i in nums:\n",
        "  df[i].fillna(value=df[i].mean(), inplace=True)"
      ],
      "metadata": {
        "id": "-GNdBHMVIEY3",
        "colab": {
          "base_uri": "https://localhost:8080/"
        },
        "outputId": "01f8fe54-e8c0-4761-d5a7-f6fbc2c143fb"
      },
      "execution_count": 16,
      "outputs": [
        {
          "output_type": "stream",
          "name": "stderr",
          "text": [
            "<ipython-input-16-641bee731d2e>:2: FutureWarning: A value is trying to be set on a copy of a DataFrame or Series through chained assignment using an inplace method.\n",
            "The behavior will change in pandas 3.0. This inplace method will never work because the intermediate object on which we are setting values always behaves as a copy.\n",
            "\n",
            "For example, when doing 'df[col].method(value, inplace=True)', try using 'df.method({col: value}, inplace=True)' or df[col] = df[col].method(value) instead, to perform the operation inplace on the original object.\n",
            "\n",
            "\n",
            "  df[i].fillna(value=df[i].mean(), inplace=True)\n"
          ]
        }
      ]
    },
    {
      "cell_type": "code",
      "source": [
        "larg = holder.nlargest(n=2, columns='Missing Values') # Print the resu0lt\n",
        "print(larg)"
      ],
      "metadata": {
        "colab": {
          "base_uri": "https://localhost:8080/"
        },
        "id": "lX_z-uV1KCkF",
        "outputId": "90b0a241-dd4c-4a9f-fddd-0bbe9603e81b"
      },
      "execution_count": 11,
      "outputs": [
        {
          "output_type": "stream",
          "name": "stdout",
          "text": [
            "    Column  Missing Values\n",
            "4  society            5502\n",
            "7  balcony             609\n"
          ]
        }
      ]
    },
    {
      "cell_type": "code",
      "source": [
        "df.drop(columns=larg['Column'])"
      ],
      "metadata": {
        "colab": {
          "base_uri": "https://localhost:8080/",
          "height": 423
        },
        "id": "M6cfIdQfNXaU",
        "outputId": "7168686f-4476-496e-ff0c-1131fb45078f"
      },
      "execution_count": 12,
      "outputs": [
        {
          "output_type": "execute_result",
          "data": {
            "text/plain": [
              "                  area_type   availability                  location  \\\n",
              "0      Super built-up  Area         19-Dec  Electronic City Phase II   \n",
              "1                Plot  Area  Ready To Move          Chikka Tirupathi   \n",
              "2            Built-up  Area  Ready To Move               Uttarahalli   \n",
              "3      Super built-up  Area  Ready To Move        Lingadheeranahalli   \n",
              "4      Super built-up  Area  Ready To Move                  Kothanur   \n",
              "...                     ...            ...                       ...   \n",
              "13315        Built-up  Area  Ready To Move                Whitefield   \n",
              "13316  Super built-up  Area  Ready To Move             Richards Town   \n",
              "13317        Built-up  Area  Ready To Move     Raja Rajeshwari Nagar   \n",
              "13318  Super built-up  Area         18-Jun           Padmanabhanagar   \n",
              "13319  Super built-up  Area  Ready To Move              Doddathoguru   \n",
              "\n",
              "            size total_sqft  bath   price  \n",
              "0          2 BHK       1056   2.0   39.07  \n",
              "1      4 Bedroom       2600   5.0  120.00  \n",
              "2          3 BHK       1440   2.0   62.00  \n",
              "3          3 BHK       1521   3.0   95.00  \n",
              "4          2 BHK       1200   2.0   51.00  \n",
              "...          ...        ...   ...     ...  \n",
              "13315  5 Bedroom       3453   4.0  231.00  \n",
              "13316      4 BHK       3600   5.0  400.00  \n",
              "13317      2 BHK       1141   2.0   60.00  \n",
              "13318      4 BHK       4689   4.0  488.00  \n",
              "13319      1 BHK        550   1.0   17.00  \n",
              "\n",
              "[13320 rows x 7 columns]"
            ],
            "text/html": [
              "\n",
              "  <div id=\"df-2304d8d6-536c-43d8-bdaf-6eb3a059cc84\" class=\"colab-df-container\">\n",
              "    <div>\n",
              "<style scoped>\n",
              "    .dataframe tbody tr th:only-of-type {\n",
              "        vertical-align: middle;\n",
              "    }\n",
              "\n",
              "    .dataframe tbody tr th {\n",
              "        vertical-align: top;\n",
              "    }\n",
              "\n",
              "    .dataframe thead th {\n",
              "        text-align: right;\n",
              "    }\n",
              "</style>\n",
              "<table border=\"1\" class=\"dataframe\">\n",
              "  <thead>\n",
              "    <tr style=\"text-align: right;\">\n",
              "      <th></th>\n",
              "      <th>area_type</th>\n",
              "      <th>availability</th>\n",
              "      <th>location</th>\n",
              "      <th>size</th>\n",
              "      <th>total_sqft</th>\n",
              "      <th>bath</th>\n",
              "      <th>price</th>\n",
              "    </tr>\n",
              "  </thead>\n",
              "  <tbody>\n",
              "    <tr>\n",
              "      <th>0</th>\n",
              "      <td>Super built-up  Area</td>\n",
              "      <td>19-Dec</td>\n",
              "      <td>Electronic City Phase II</td>\n",
              "      <td>2 BHK</td>\n",
              "      <td>1056</td>\n",
              "      <td>2.0</td>\n",
              "      <td>39.07</td>\n",
              "    </tr>\n",
              "    <tr>\n",
              "      <th>1</th>\n",
              "      <td>Plot  Area</td>\n",
              "      <td>Ready To Move</td>\n",
              "      <td>Chikka Tirupathi</td>\n",
              "      <td>4 Bedroom</td>\n",
              "      <td>2600</td>\n",
              "      <td>5.0</td>\n",
              "      <td>120.00</td>\n",
              "    </tr>\n",
              "    <tr>\n",
              "      <th>2</th>\n",
              "      <td>Built-up  Area</td>\n",
              "      <td>Ready To Move</td>\n",
              "      <td>Uttarahalli</td>\n",
              "      <td>3 BHK</td>\n",
              "      <td>1440</td>\n",
              "      <td>2.0</td>\n",
              "      <td>62.00</td>\n",
              "    </tr>\n",
              "    <tr>\n",
              "      <th>3</th>\n",
              "      <td>Super built-up  Area</td>\n",
              "      <td>Ready To Move</td>\n",
              "      <td>Lingadheeranahalli</td>\n",
              "      <td>3 BHK</td>\n",
              "      <td>1521</td>\n",
              "      <td>3.0</td>\n",
              "      <td>95.00</td>\n",
              "    </tr>\n",
              "    <tr>\n",
              "      <th>4</th>\n",
              "      <td>Super built-up  Area</td>\n",
              "      <td>Ready To Move</td>\n",
              "      <td>Kothanur</td>\n",
              "      <td>2 BHK</td>\n",
              "      <td>1200</td>\n",
              "      <td>2.0</td>\n",
              "      <td>51.00</td>\n",
              "    </tr>\n",
              "    <tr>\n",
              "      <th>...</th>\n",
              "      <td>...</td>\n",
              "      <td>...</td>\n",
              "      <td>...</td>\n",
              "      <td>...</td>\n",
              "      <td>...</td>\n",
              "      <td>...</td>\n",
              "      <td>...</td>\n",
              "    </tr>\n",
              "    <tr>\n",
              "      <th>13315</th>\n",
              "      <td>Built-up  Area</td>\n",
              "      <td>Ready To Move</td>\n",
              "      <td>Whitefield</td>\n",
              "      <td>5 Bedroom</td>\n",
              "      <td>3453</td>\n",
              "      <td>4.0</td>\n",
              "      <td>231.00</td>\n",
              "    </tr>\n",
              "    <tr>\n",
              "      <th>13316</th>\n",
              "      <td>Super built-up  Area</td>\n",
              "      <td>Ready To Move</td>\n",
              "      <td>Richards Town</td>\n",
              "      <td>4 BHK</td>\n",
              "      <td>3600</td>\n",
              "      <td>5.0</td>\n",
              "      <td>400.00</td>\n",
              "    </tr>\n",
              "    <tr>\n",
              "      <th>13317</th>\n",
              "      <td>Built-up  Area</td>\n",
              "      <td>Ready To Move</td>\n",
              "      <td>Raja Rajeshwari Nagar</td>\n",
              "      <td>2 BHK</td>\n",
              "      <td>1141</td>\n",
              "      <td>2.0</td>\n",
              "      <td>60.00</td>\n",
              "    </tr>\n",
              "    <tr>\n",
              "      <th>13318</th>\n",
              "      <td>Super built-up  Area</td>\n",
              "      <td>18-Jun</td>\n",
              "      <td>Padmanabhanagar</td>\n",
              "      <td>4 BHK</td>\n",
              "      <td>4689</td>\n",
              "      <td>4.0</td>\n",
              "      <td>488.00</td>\n",
              "    </tr>\n",
              "    <tr>\n",
              "      <th>13319</th>\n",
              "      <td>Super built-up  Area</td>\n",
              "      <td>Ready To Move</td>\n",
              "      <td>Doddathoguru</td>\n",
              "      <td>1 BHK</td>\n",
              "      <td>550</td>\n",
              "      <td>1.0</td>\n",
              "      <td>17.00</td>\n",
              "    </tr>\n",
              "  </tbody>\n",
              "</table>\n",
              "<p>13320 rows × 7 columns</p>\n",
              "</div>\n",
              "    <div class=\"colab-df-buttons\">\n",
              "\n",
              "  <div class=\"colab-df-container\">\n",
              "    <button class=\"colab-df-convert\" onclick=\"convertToInteractive('df-2304d8d6-536c-43d8-bdaf-6eb3a059cc84')\"\n",
              "            title=\"Convert this dataframe to an interactive table.\"\n",
              "            style=\"display:none;\">\n",
              "\n",
              "  <svg xmlns=\"http://www.w3.org/2000/svg\" height=\"24px\" viewBox=\"0 -960 960 960\">\n",
              "    <path d=\"M120-120v-720h720v720H120Zm60-500h600v-160H180v160Zm220 220h160v-160H400v160Zm0 220h160v-160H400v160ZM180-400h160v-160H180v160Zm440 0h160v-160H620v160ZM180-180h160v-160H180v160Zm440 0h160v-160H620v160Z\"/>\n",
              "  </svg>\n",
              "    </button>\n",
              "\n",
              "  <style>\n",
              "    .colab-df-container {\n",
              "      display:flex;\n",
              "      gap: 12px;\n",
              "    }\n",
              "\n",
              "    .colab-df-convert {\n",
              "      background-color: #E8F0FE;\n",
              "      border: none;\n",
              "      border-radius: 50%;\n",
              "      cursor: pointer;\n",
              "      display: none;\n",
              "      fill: #1967D2;\n",
              "      height: 32px;\n",
              "      padding: 0 0 0 0;\n",
              "      width: 32px;\n",
              "    }\n",
              "\n",
              "    .colab-df-convert:hover {\n",
              "      background-color: #E2EBFA;\n",
              "      box-shadow: 0px 1px 2px rgba(60, 64, 67, 0.3), 0px 1px 3px 1px rgba(60, 64, 67, 0.15);\n",
              "      fill: #174EA6;\n",
              "    }\n",
              "\n",
              "    .colab-df-buttons div {\n",
              "      margin-bottom: 4px;\n",
              "    }\n",
              "\n",
              "    [theme=dark] .colab-df-convert {\n",
              "      background-color: #3B4455;\n",
              "      fill: #D2E3FC;\n",
              "    }\n",
              "\n",
              "    [theme=dark] .colab-df-convert:hover {\n",
              "      background-color: #434B5C;\n",
              "      box-shadow: 0px 1px 3px 1px rgba(0, 0, 0, 0.15);\n",
              "      filter: drop-shadow(0px 1px 2px rgba(0, 0, 0, 0.3));\n",
              "      fill: #FFFFFF;\n",
              "    }\n",
              "  </style>\n",
              "\n",
              "    <script>\n",
              "      const buttonEl =\n",
              "        document.querySelector('#df-2304d8d6-536c-43d8-bdaf-6eb3a059cc84 button.colab-df-convert');\n",
              "      buttonEl.style.display =\n",
              "        google.colab.kernel.accessAllowed ? 'block' : 'none';\n",
              "\n",
              "      async function convertToInteractive(key) {\n",
              "        const element = document.querySelector('#df-2304d8d6-536c-43d8-bdaf-6eb3a059cc84');\n",
              "        const dataTable =\n",
              "          await google.colab.kernel.invokeFunction('convertToInteractive',\n",
              "                                                    [key], {});\n",
              "        if (!dataTable) return;\n",
              "\n",
              "        const docLinkHtml = 'Like what you see? Visit the ' +\n",
              "          '<a target=\"_blank\" href=https://colab.research.google.com/notebooks/data_table.ipynb>data table notebook</a>'\n",
              "          + ' to learn more about interactive tables.';\n",
              "        element.innerHTML = '';\n",
              "        dataTable['output_type'] = 'display_data';\n",
              "        await google.colab.output.renderOutput(dataTable, element);\n",
              "        const docLink = document.createElement('div');\n",
              "        docLink.innerHTML = docLinkHtml;\n",
              "        element.appendChild(docLink);\n",
              "      }\n",
              "    </script>\n",
              "  </div>\n",
              "\n",
              "\n",
              "<div id=\"df-c39b4f91-91ca-4028-a96f-eee6f38f130d\">\n",
              "  <button class=\"colab-df-quickchart\" onclick=\"quickchart('df-c39b4f91-91ca-4028-a96f-eee6f38f130d')\"\n",
              "            title=\"Suggest charts\"\n",
              "            style=\"display:none;\">\n",
              "\n",
              "<svg xmlns=\"http://www.w3.org/2000/svg\" height=\"24px\"viewBox=\"0 0 24 24\"\n",
              "     width=\"24px\">\n",
              "    <g>\n",
              "        <path d=\"M19 3H5c-1.1 0-2 .9-2 2v14c0 1.1.9 2 2 2h14c1.1 0 2-.9 2-2V5c0-1.1-.9-2-2-2zM9 17H7v-7h2v7zm4 0h-2V7h2v10zm4 0h-2v-4h2v4z\"/>\n",
              "    </g>\n",
              "</svg>\n",
              "  </button>\n",
              "\n",
              "<style>\n",
              "  .colab-df-quickchart {\n",
              "      --bg-color: #E8F0FE;\n",
              "      --fill-color: #1967D2;\n",
              "      --hover-bg-color: #E2EBFA;\n",
              "      --hover-fill-color: #174EA6;\n",
              "      --disabled-fill-color: #AAA;\n",
              "      --disabled-bg-color: #DDD;\n",
              "  }\n",
              "\n",
              "  [theme=dark] .colab-df-quickchart {\n",
              "      --bg-color: #3B4455;\n",
              "      --fill-color: #D2E3FC;\n",
              "      --hover-bg-color: #434B5C;\n",
              "      --hover-fill-color: #FFFFFF;\n",
              "      --disabled-bg-color: #3B4455;\n",
              "      --disabled-fill-color: #666;\n",
              "  }\n",
              "\n",
              "  .colab-df-quickchart {\n",
              "    background-color: var(--bg-color);\n",
              "    border: none;\n",
              "    border-radius: 50%;\n",
              "    cursor: pointer;\n",
              "    display: none;\n",
              "    fill: var(--fill-color);\n",
              "    height: 32px;\n",
              "    padding: 0;\n",
              "    width: 32px;\n",
              "  }\n",
              "\n",
              "  .colab-df-quickchart:hover {\n",
              "    background-color: var(--hover-bg-color);\n",
              "    box-shadow: 0 1px 2px rgba(60, 64, 67, 0.3), 0 1px 3px 1px rgba(60, 64, 67, 0.15);\n",
              "    fill: var(--button-hover-fill-color);\n",
              "  }\n",
              "\n",
              "  .colab-df-quickchart-complete:disabled,\n",
              "  .colab-df-quickchart-complete:disabled:hover {\n",
              "    background-color: var(--disabled-bg-color);\n",
              "    fill: var(--disabled-fill-color);\n",
              "    box-shadow: none;\n",
              "  }\n",
              "\n",
              "  .colab-df-spinner {\n",
              "    border: 2px solid var(--fill-color);\n",
              "    border-color: transparent;\n",
              "    border-bottom-color: var(--fill-color);\n",
              "    animation:\n",
              "      spin 1s steps(1) infinite;\n",
              "  }\n",
              "\n",
              "  @keyframes spin {\n",
              "    0% {\n",
              "      border-color: transparent;\n",
              "      border-bottom-color: var(--fill-color);\n",
              "      border-left-color: var(--fill-color);\n",
              "    }\n",
              "    20% {\n",
              "      border-color: transparent;\n",
              "      border-left-color: var(--fill-color);\n",
              "      border-top-color: var(--fill-color);\n",
              "    }\n",
              "    30% {\n",
              "      border-color: transparent;\n",
              "      border-left-color: var(--fill-color);\n",
              "      border-top-color: var(--fill-color);\n",
              "      border-right-color: var(--fill-color);\n",
              "    }\n",
              "    40% {\n",
              "      border-color: transparent;\n",
              "      border-right-color: var(--fill-color);\n",
              "      border-top-color: var(--fill-color);\n",
              "    }\n",
              "    60% {\n",
              "      border-color: transparent;\n",
              "      border-right-color: var(--fill-color);\n",
              "    }\n",
              "    80% {\n",
              "      border-color: transparent;\n",
              "      border-right-color: var(--fill-color);\n",
              "      border-bottom-color: var(--fill-color);\n",
              "    }\n",
              "    90% {\n",
              "      border-color: transparent;\n",
              "      border-bottom-color: var(--fill-color);\n",
              "    }\n",
              "  }\n",
              "</style>\n",
              "\n",
              "  <script>\n",
              "    async function quickchart(key) {\n",
              "      const quickchartButtonEl =\n",
              "        document.querySelector('#' + key + ' button');\n",
              "      quickchartButtonEl.disabled = true;  // To prevent multiple clicks.\n",
              "      quickchartButtonEl.classList.add('colab-df-spinner');\n",
              "      try {\n",
              "        const charts = await google.colab.kernel.invokeFunction(\n",
              "            'suggestCharts', [key], {});\n",
              "      } catch (error) {\n",
              "        console.error('Error during call to suggestCharts:', error);\n",
              "      }\n",
              "      quickchartButtonEl.classList.remove('colab-df-spinner');\n",
              "      quickchartButtonEl.classList.add('colab-df-quickchart-complete');\n",
              "    }\n",
              "    (() => {\n",
              "      let quickchartButtonEl =\n",
              "        document.querySelector('#df-c39b4f91-91ca-4028-a96f-eee6f38f130d button');\n",
              "      quickchartButtonEl.style.display =\n",
              "        google.colab.kernel.accessAllowed ? 'block' : 'none';\n",
              "    })();\n",
              "  </script>\n",
              "</div>\n",
              "\n",
              "    </div>\n",
              "  </div>\n"
            ],
            "application/vnd.google.colaboratory.intrinsic+json": {
              "type": "dataframe",
              "summary": "{\n  \"name\": \"df\",\n  \"rows\": 13320,\n  \"fields\": [\n    {\n      \"column\": \"area_type\",\n      \"properties\": {\n        \"dtype\": \"category\",\n        \"num_unique_values\": 4,\n        \"samples\": [\n          \"Plot  Area\",\n          \"Carpet  Area\",\n          \"Super built-up  Area\"\n        ],\n        \"semantic_type\": \"\",\n        \"description\": \"\"\n      }\n    },\n    {\n      \"column\": \"availability\",\n      \"properties\": {\n        \"dtype\": \"category\",\n        \"num_unique_values\": 81,\n        \"samples\": [\n          \"18-Sep\",\n          \"19-Dec\",\n          \"22-Jan\"\n        ],\n        \"semantic_type\": \"\",\n        \"description\": \"\"\n      }\n    },\n    {\n      \"column\": \"location\",\n      \"properties\": {\n        \"dtype\": \"category\",\n        \"num_unique_values\": 1305,\n        \"samples\": [\n          \"Ashok Nagar\",\n          \"Maruthi Nagar\",\n          \"CQAL Layout\"\n        ],\n        \"semantic_type\": \"\",\n        \"description\": \"\"\n      }\n    },\n    {\n      \"column\": \"size\",\n      \"properties\": {\n        \"dtype\": \"category\",\n        \"num_unique_values\": 31,\n        \"samples\": [\n          \"8 BHK\",\n          \"5 Bedroom\",\n          \"19 BHK\"\n        ],\n        \"semantic_type\": \"\",\n        \"description\": \"\"\n      }\n    },\n    {\n      \"column\": \"total_sqft\",\n      \"properties\": {\n        \"dtype\": \"category\",\n        \"num_unique_values\": 2117,\n        \"samples\": [\n          \"5270\",\n          \"832\",\n          \"1145\"\n        ],\n        \"semantic_type\": \"\",\n        \"description\": \"\"\n      }\n    },\n    {\n      \"column\": \"bath\",\n      \"properties\": {\n        \"dtype\": \"number\",\n        \"std\": 1.3414580781244512,\n        \"min\": 1.0,\n        \"max\": 40.0,\n        \"num_unique_values\": 19,\n        \"samples\": [\n          2.0,\n          1.0,\n          14.0\n        ],\n        \"semantic_type\": \"\",\n        \"description\": \"\"\n      }\n    },\n    {\n      \"column\": \"price\",\n      \"properties\": {\n        \"dtype\": \"number\",\n        \"std\": 148.9716737696744,\n        \"min\": 8.0,\n        \"max\": 3600.0,\n        \"num_unique_values\": 1994,\n        \"samples\": [\n          93.25,\n          33.645,\n          62.55\n        ],\n        \"semantic_type\": \"\",\n        \"description\": \"\"\n      }\n    }\n  ]\n}"
            }
          },
          "metadata": {},
          "execution_count": 12
        }
      ]
    },
    {
      "cell_type": "code",
      "source": [
        "print('numerical values ')\n",
        "for i in df.select_dtypes(include=['float64', 'int64']).columns:\n",
        "  print(i)\n",
        "print('caterogical value')\n",
        "for i in df.select_dtypes(include=['object']).columns:\n",
        "  print(i)\n"
      ],
      "metadata": {
        "colab": {
          "base_uri": "https://localhost:8080/"
        },
        "id": "Ki_VcwXjPnH_",
        "outputId": "a954fbac-3eac-4fa5-c838-cf7c091d3cc6"
      },
      "execution_count": 13,
      "outputs": [
        {
          "output_type": "stream",
          "name": "stdout",
          "text": [
            "numerical values \n",
            "bath\n",
            "balcony\n",
            "price\n",
            "caterogical value\n",
            "area_type\n",
            "availability\n",
            "location\n",
            "size\n",
            "society\n",
            "total_sqft\n"
          ]
        }
      ]
    },
    {
      "cell_type": "code",
      "source": [
        "import pandas as pd\n",
        "from sklearn.model_selection import train_test_split\n",
        "\n",
        "\n",
        "# Load the dataset (ufrom sklearn.datasets import load_bostonsing Boston housing dataset as an example)\n",
        "\n",
        "X = df[['bath', 'balcony']]\n",
        "y = df['price']\n",
        "\n",
        "# Perform train-test split (80% training, 20% testing)\n",
        "X_train, X_test, y_train, y_test = train_test_split(X, y, test_size=0.2, random_state=42)\n"
      ],
      "metadata": {
        "id": "Qtkm_9KoQbYD"
      },
      "execution_count": 17,
      "outputs": []
    },
    {
      "cell_type": "code",
      "source": [
        "from sklearn.neighbors import KNeighborsRegressor\n",
        "from sklearn.metrics import mean_squared_error\n",
        "\n",
        "# Initialize and train the KNN model\n",
        "knn = KNeighborsRegressor(n_neighbors=5)\n",
        "knn.fit(X_train, y_train)\n",
        "\n",
        "# Predict on the test set\n",
        "y_pred_knn = knn.predict(X_test)\n",
        "\n",
        "# Calculate accuracy (using Mean Squared Error as an example)\n",
        "mse_knn = mean_squared_error(y_test, y_pred_knn)\n",
        "print(\"KNN Mean Squared Error:\", mse_knn)\n"
      ],
      "metadata": {
        "colab": {
          "base_uri": "https://localhost:8080/"
        },
        "id": "UTMW8qKYUmc5",
        "outputId": "ea5d64bf-6526-46da-e4b0-a5019e88b8d2"
      },
      "execution_count": 18,
      "outputs": [
        {
          "output_type": "stream",
          "name": "stdout",
          "text": [
            "KNN Mean Squared Error: 19469.776001728977\n"
          ]
        }
      ]
    },
    {
      "cell_type": "code",
      "source": [
        "from sklearn.tree import DecisionTreeRegressor\n",
        "\n",
        "# Initialize and train the Decision Tree model\n",
        "dt = DecisionTreeRegressor(max_depth=5)\n",
        "dt.fit(X_train, y_train)\n",
        "\n",
        "# Predict on the test set\n",
        "y_pred_dt = dt.predict(X_test)\n",
        "\n",
        "# Calculate accuracy (using Mean Squared Error as an example)\n",
        "mse_dt = mean_squared_error(y_test, y_pred_dt)\n",
        "print(\"Decision Tree Mean Squared Error:\", mse_dt)\n"
      ],
      "metadata": {
        "colab": {
          "base_uri": "https://localhost:8080/"
        },
        "id": "YkRgM6lLUx2S",
        "outputId": "c220b203-29f2-45bd-973a-19026b00174b"
      },
      "execution_count": 22,
      "outputs": [
        {
          "output_type": "stream",
          "name": "stdout",
          "text": [
            "Decision Tree Mean Squared Error: 16232.906848155528\n"
          ]
        }
      ]
    },
    {
      "cell_type": "code",
      "source": [
        "from sklearn.ensemble import RandomForestRegressor\n",
        "\n",
        "# Initialize and train the Random Forest model\n",
        "rf = RandomForestRegressor(n_estimators=100, random_state=42)\n",
        "rf.fit(X_train, y_train)\n",
        "\n",
        "# Predict on the test set\n",
        "y_pred_rf = rf.predict(X_test)\n",
        "\n",
        "# Calculate accuracy (using Mean Squared Error as an example)\n",
        "mse_rf = mean_squared_error(y_test, y_pred_rf)\n",
        "print(\"Random Forest Mean Squared Error:\", mse_rf)\n"
      ],
      "metadata": {
        "colab": {
          "base_uri": "https://localhost:8080/"
        },
        "id": "Fz4GH1_cU3d9",
        "outputId": "7b432954-4017-40e4-ffa5-0dbf3bf23d75"
      },
      "execution_count": 23,
      "outputs": [
        {
          "output_type": "stream",
          "name": "stdout",
          "text": [
            "Random Forest Mean Squared Error: 16604.81794330226\n"
          ]
        }
      ]
    },
    {
      "cell_type": "code",
      "source": [
        "# Print the Mean Squared Error for each model\n",
        "print(\"KNN Mean Squared Error:\", mse_knn)\n",
        "print(\"Decision Tree Mean Squared Error:\", mse_dt)\n",
        "print(\"Random Forest Mean Squared Error:\", mse_rf)\n"
      ],
      "metadata": {
        "colab": {
          "base_uri": "https://localhost:8080/"
        },
        "id": "ujGHfSCZVCQN",
        "outputId": "abbb44fc-9e47-4672-f143-a01bdb7bfa14"
      },
      "execution_count": 24,
      "outputs": [
        {
          "output_type": "stream",
          "name": "stdout",
          "text": [
            "KNN Mean Squared Error: 19469.776001728977\n",
            "Decision Tree Mean Squared Error: 16232.906848155528\n",
            "Random Forest Mean Squared Error: 16604.81794330226\n"
          ]
        }
      ]
    },
    {
      "cell_type": "code",
      "source": [
        "from sklearn.model_selection import cross_val_score\n",
        "\n",
        "# K-Fold Cross-Validation for KNN\n",
        "knn_scores = cross_val_score(knn, X, y, cv=5, scoring='neg_mean_squared_error')\n",
        "print(\"KNN Cross-Validation Mean Squared Error:\", -knn_scores.mean())\n",
        "\n",
        "# K-Fold Cross-Validation for Decision Tree\n",
        "dt_scores = cross_val_score(dt, X, y, cv=5, scoring='neg_mean_squared_error')\n",
        "print(\"Decision Tree Cross-Validation Mean Squared Error:\", -dt_scores.mean())\n",
        "\n",
        "# K-Fold Cross-Validation for Random Forest\n",
        "rf_scores = cross_val_score(rf, X, y, cv=5, scoring='neg_mean_squared_error')\n",
        "print(\"Random Forest Cross-Validation Mean Squared Error:\", -rf_scores.mean())\n"
      ],
      "metadata": {
        "id": "i6YAfr89VD2A",
        "colab": {
          "base_uri": "https://localhost:8080/"
        },
        "outputId": "e58fd0b2-cb7f-4c28-b693-9e3038c7cd67"
      },
      "execution_count": 26,
      "outputs": [
        {
          "output_type": "stream",
          "name": "stdout",
          "text": [
            "KNN Cross-Validation Mean Squared Error: 18151.229712537985\n",
            "Decision Tree Cross-Validation Mean Squared Error: 16670.374607476555\n",
            "Random Forest Cross-Validation Mean Squared Error: 16719.505516345478\n"
          ]
        }
      ]
    },
    {
      "source": [
        "from sklearn.model_selection import GridSearchCV\n",
        "\n",
        "# Grid Search for KNN\n",
        "knn_params = {'n_neighbors': [3, 5, 7, 9]}\n",
        "knn_grid = GridSearchCV(knn, knn_params, cv=5, scoring='neg_mean_squared_error')\n",
        "knn_grid.fit(X_train, y_train)\n",
        "print(\"Best KNN Parameters:\", knn_grid.best_params_)\n",
        "print(\"Best KNN Mean Squared Error:\", -knn_grid.best_score_)\n",
        "\n",
        "# Grid Search for Decision Tree\n",
        "dt_params = {'max_depth': [3, 5, 7, 9], 'criterion': ['squared_error', 'friedman_mse', 'absolute_error', 'poisson']}  # Changed 'mse' and 'mae' to valid options\n",
        "dt_grid = GridSearchCV(dt, dt_params, cv=5, scoring='neg_mean_squared_error')\n",
        "dt_grid.fit(X_train, y_train)\n",
        "print(\"Best Decision Tree Parameters:\", dt_grid.best_params_)\n",
        "print(\"Best Decision Tree Mean Squared Error:\", -dt_grid.best_score_)\n",
        "\n",
        "# Grid Search for Random Forest\n",
        "rf_params = {'n_estimators': [50, 100, 150], 'max_depth': [3, 5, 7, 9]}\n",
        "rf_grid = GridSearchCV(rf, rf_params, cv=5, scoring='neg_mean_squared_error')\n",
        "rf_grid.fit(X_train, y_train)\n",
        "print(\"Best Random Forest Parameters:\", rf_grid.best_params_)\n",
        "print(\"Best Random Forest Mean Squared Error:\", -rf_grid.best_score_)"
      ],
      "cell_type": "code",
      "metadata": {
        "colab": {
          "base_uri": "https://localhost:8080/"
        },
        "id": "Rho4UxLnNl6P",
        "outputId": "6838787f-b7be-4c9c-d191-8041a45a1257"
      },
      "execution_count": 28,
      "outputs": [
        {
          "output_type": "stream",
          "name": "stdout",
          "text": [
            "Best KNN Parameters: {'n_neighbors': 9}\n",
            "Best KNN Mean Squared Error: 17928.23526786299\n",
            "Best Decision Tree Parameters: {'criterion': 'poisson', 'max_depth': 3}\n",
            "Best Decision Tree Mean Squared Error: 16843.634712333085\n",
            "Best Random Forest Parameters: {'max_depth': 3, 'n_estimators': 50}\n",
            "Best Random Forest Mean Squared Error: 16975.18861471574\n"
          ]
        }
      ]
    },
    {
      "cell_type": "code",
      "source": [
        "# Evaluate the best models\n",
        "best_knn = knn_grid.best_estimator_\n",
        "best_dt = dt_grid.best_estimator_\n",
        "best_rf = rf_grid.best_estimator_\n",
        "\n",
        "# Predict on the test set\n",
        "y_pred_best_knn = best_knn.predict(X_test)\n",
        "y_pred_best_dt = best_dt.predict(X_test)\n",
        "y_pred_best_rf = best_rf.predict(X_test)\n",
        "\n",
        "# Calculate accuracy (using Mean Squared Error as an example)\n",
        "mse_best_knn = mean_squared_error(y_test, y_pred_best_knn)\n",
        "mse_best_dt = mean_squared_error(y_test, y_pred_best_dt)\n",
        "mse_best_rf = mean_squared_error(y_test, y_pred_best_rf)\n",
        "\n",
        "# Print the Mean Squared Error for each best model\n",
        "print(\"Best KNN Mean Squared Error:\", mse_best_knn)\n",
        "print(\"Best Decision Tree Mean Squared Error:\", mse_best_dt)\n",
        "print(\"Best Random Forest Mean Squared Error:\", mse_best_rf)\n"
      ],
      "metadata": {
        "colab": {
          "base_uri": "https://localhost:8080/"
        },
        "id": "WE_qLZbpN9ZF",
        "outputId": "396bd281-5316-4ac1-be32-edd27cfec48d"
      },
      "execution_count": 29,
      "outputs": [
        {
          "output_type": "stream",
          "name": "stdout",
          "text": [
            "Best KNN Mean Squared Error: 17265.13854797054\n",
            "Best Decision Tree Mean Squared Error: 15429.361001926105\n",
            "Best Random Forest Mean Squared Error: 15665.304516588709\n"
          ]
        }
      ]
    },
    {
      "cell_type": "code",
      "source": [
        "# Evaluate the best models\n",
        "best_knn = knn_grid.best_estimator_\n",
        "best_dt = dt_grid.best_estimator_\n",
        "best_rf = rf_grid.best_estimator_\n",
        "\n",
        "# Predict on the test set\n",
        "y_pred_best_knn = best_knn.predict(X_test)\n",
        "y_pred_best_dt = best_dt.predict(X_test)\n",
        "y_pred_best_rf = best_rf.predict(X_test)\n",
        "\n",
        "# Calculate accuracy (using Mean Squared Error as an example)\n",
        "mse_best_knn = mean_squared_error(y_test, y_pred_best_knn)\n",
        "mse_best_dt = mean_squared_error(y_test, y_pred_best_dt)\n",
        "mse_best_rf = mean_squared_error(y_test, y_pred_best_rf)\n",
        "\n",
        "# Print the Mean Squared Error for each best model\n",
        "print(\"Best KNN Mean Squared Error:\", mse_best_knn)\n",
        "print(\"Best Decision Tree Mean Squared Error:\", mse_best_dt)\n",
        "print(\"Best Random Forest Mean Squared Error:\", mse_best_rf)\n"
      ],
      "metadata": {
        "colab": {
          "base_uri": "https://localhost:8080/"
        },
        "id": "OXdiytLtOXvo",
        "outputId": "2986e756-c441-465a-c454-79651fa707b5"
      },
      "execution_count": 30,
      "outputs": [
        {
          "output_type": "stream",
          "name": "stdout",
          "text": [
            "Best KNN Mean Squared Error: 17265.13854797054\n",
            "Best Decision Tree Mean Squared Error: 15429.361001926105\n",
            "Best Random Forest Mean Squared Error: 15665.304516588709\n"
          ]
        }
      ]
    }
  ]
}