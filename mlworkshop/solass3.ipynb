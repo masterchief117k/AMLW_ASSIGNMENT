{
 "cells": [
  {
   "cell_type": "markdown",
   "metadata": {},
   "source": [
    "## Imprting the packages used in assignment\n"
   ]
  },
  {
   "cell_type": "code",
   "execution_count": 1,
   "metadata": {},
   "outputs": [],
   "source": [
    "import pandas as pd \n",
    "import numpy as np"
   ]
  },
  {
   "cell_type": "markdown",
   "metadata": {},
   "source": [
    "# Q1"
   ]
  },
  {
   "cell_type": "code",
   "execution_count": 2,
   "metadata": {},
   "outputs": [
    {
     "name": "stdout",
     "output_type": "stream",
     "text": [
      "       names  years    branches\n",
      "a      Ankit      1         CSE\n",
      "b  Aishwarya      2          EE\n",
      "c    Shaurya      3        CSIT\n",
      "d   Shivangi      2  CSE (AIML)\n",
      "e        Ram      1  CSE (AIML)\n",
      "f       Alex      4         CSE\n",
      "g      James      3  CSE (AIML)\n",
      "h       John      2        CSIT\n",
      "i    Supriya      1         CSE\n",
      "j   Abhinash      2          EE\n"
     ]
    }
   ],
   "source": [
    "# Names of students\n",
    "data={\n",
    "\"names\" : ['Ankit', 'Aishwarya', 'Shaurya', 'Shivangi', 'Ram', 'Alex', 'James', 'John', 'Supriya', 'Abhinash'],\n",
    "\n",
    "# Years of study\n",
    "\"years\": [1, 2, 3, 2, 1, 4, 3, 2, 1, 2],\n",
    "\n",
    "# Branches of study\n",
    "'branches' : ['CSE', 'EE', 'CSIT', 'CSE (AIML)', 'CSE (AIML)', 'CSE', 'CSE (AIML)', 'CSIT', 'CSE', 'EE'],\n",
    "}\n",
    "df = pd.DataFrame(data ,index=['a','b','c','d','e','f','g','h','i',\"j\"])\n",
    "print(df)"
   ]
  },
  {
   "cell_type": "markdown",
   "metadata": {},
   "source": [
    "# Q2"
   ]
  },
  {
   "cell_type": "code",
   "execution_count": 3,
   "metadata": {},
   "outputs": [
    {
     "name": "stdout",
     "output_type": "stream",
     "text": [
      "        names years    branches branch\n",
      "0       Ankit     1         CSE    NaN\n",
      "1   Aishwarya     2          EE    NaN\n",
      "2     Shaurya     3        CSIT    NaN\n",
      "3    Shivangi     2  CSE (AIML)    NaN\n",
      "4         Ram     1  CSE (AIML)    NaN\n",
      "5        Alex     4         CSE    NaN\n",
      "6       James     3  CSE (AIML)    NaN\n",
      "7        John     2        CSIT    NaN\n",
      "8     Supriya     1         CSE    NaN\n",
      "9    Abhinash     2          EE    NaN\n",
      "10      Alekh     3         NaN    CSE\n"
     ]
    }
   ],
   "source": [
    "d={\"names\":['Alekh'],'years':['3'],'branch':['CSE']}\n",
    "d=pd.DataFrame(d)\n",
    "df=pd.concat([df,d],ignore_index=True)\n",
    "print(df)"
   ]
  },
  {
   "cell_type": "markdown",
   "metadata": {},
   "source": [
    "# Q3"
   ]
  },
  {
   "cell_type": "code",
   "execution_count": 4,
   "metadata": {},
   "outputs": [
    {
     "name": "stdout",
     "output_type": "stream",
     "text": [
      "44\n",
      "<bound method DataFrame.info of         names years    branches branch\n",
      "0       Ankit     1         CSE    NaN\n",
      "1   Aishwarya     2          EE    NaN\n",
      "2     Shaurya     3        CSIT    NaN\n",
      "3    Shivangi     2  CSE (AIML)    NaN\n",
      "4         Ram     1  CSE (AIML)    NaN\n",
      "5        Alex     4         CSE    NaN\n",
      "6       James     3  CSE (AIML)    NaN\n",
      "7        John     2        CSIT    NaN\n",
      "8     Supriya     1         CSE    NaN\n",
      "9    Abhinash     2          EE    NaN\n",
      "10      Alekh     3         NaN    CSE>\n",
      "2\n",
      "44\n",
      "(11, 4)\n"
     ]
    }
   ],
   "source": [
    "print(df.size)\n",
    "print(df.info)\n",
    "print(df.ndim)\n",
    "print(df.size)\n",
    "print(df.shape)"
   ]
  },
  {
   "cell_type": "markdown",
   "metadata": {},
   "source": [
    "# Q4"
   ]
  },
  {
   "cell_type": "code",
   "execution_count": 8,
   "metadata": {},
   "outputs": [
    {
     "name": "stdout",
     "output_type": "stream",
     "text": [
      "<class 'pandas.core.frame.DataFrame'>\n",
      "RangeIndex: 11 entries, 0 to 10\n",
      "Data columns (total 5 columns):\n",
      " #   Column    Non-Null Count  Dtype  \n",
      "---  ------    --------------  -----  \n",
      " 0   names     11 non-null     object \n",
      " 1   years     11 non-null     object \n",
      " 2   branches  10 non-null     object \n",
      " 3   branch    1 non-null      object \n",
      " 4   CGPA      11 non-null     float64\n",
      "dtypes: float64(1), object(4)\n",
      "memory usage: 572.0+ bytes\n",
      "None\n"
     ]
    }
   ],
   "source": [
    "list1=[8.9,8.8,9.0,7.8,7.5,9.10,9.2,8.4,9.4,8.1,7.4]\n",
    "df['CGPA']=list1\n",
    "print(df.info())"
   ]
  },
  {
   "cell_type": "markdown",
   "metadata": {},
   "source": [
    "# Q5"
   ]
  },
  {
   "cell_type": "code",
   "execution_count": null,
   "metadata": {},
   "outputs": [
    {
     "name": "stdout",
     "output_type": "stream",
     "text": [
      "<class 'pandas.core.frame.DataFrame'>\n",
      "RangeIndex: 5 entries, 0 to 4\n",
      "Data columns (total 2 columns):\n",
      " #   Column        Non-Null Count  Dtype \n",
      "---  ------        --------------  ----- \n",
      " 0   marks         5 non-null      object\n",
      " 1   student name  5 non-null      object\n",
      "dtypes: object(2)\n",
      "memory usage: 212.0+ bytes\n",
      "None\n"
     ]
    }
   ],
   "source": [
    "df={ \"marks\":[ [90, 92, 89, 81, 94], [91, 81, 91, 71, 86],[85, 86, 83, 80, 75], [97, 96, 88, 67, 65],[93, 89, 78, 87, 65]],\"student name\":['Ankit','Airshwarya','Ram','James','Alex']}\n",
    "\n",
    "df=pd.DataFrame(df)\n",
    "print(df.info())"
   ]
  },
  {
   "cell_type": "markdown",
   "metadata": {},
   "source": [
    "# Q6"
   ]
  },
  {
   "cell_type": "code",
   "execution_count": null,
   "metadata": {},
   "outputs": [
    {
     "name": "stdout",
     "output_type": "stream",
     "text": [
      "<class 'pandas.core.frame.DataFrame'>\n",
      "RangeIndex: 5 entries, 0 to 4\n",
      "Data columns (total 3 columns):\n",
      " #   Column    Non-Null Count  Dtype \n",
      "---  ------    --------------  ----- \n",
      " 0   Name      5 non-null      object\n",
      " 1   Price     5 non-null      int64 \n",
      " 2   Quantity  5 non-null      int64 \n",
      "dtypes: int64(2), object(1)\n",
      "memory usage: 252.0+ bytes\n",
      "None\n",
      "          Name  Price  Quantity\n",
      "0          RAM   2500        10\n",
      "1     Register   1000        12\n",
      "2     Keyboard   1500         2\n",
      "3        Mouse    200         3\n",
      "4  Flash Drive    600        12\n",
      "          Name  Price   Total\n",
      "0          RAM   2500   25000\n",
      "1     Register   1000   12000\n",
      "2     Keyboard   1500    3000\n",
      "3        Mouse    200     600\n",
      "4  Flash Drive    600    7200\n",
      "5      Scanner   3500  241500\n"
     ]
    }
   ],
   "source": [
    "stock = { 'Name': ['RAM', 'Register', 'Keyboard', 'Mouse', 'Flash Drive'], 'Price': [2500, 1000, 1500, 200, 600], 'Quantity': [10, 12, 2, 3, 12] }\n",
    "df=pd.DataFrame(stock )\n",
    "print(df.info())\n",
    "print(df)\n",
    "scanner = pd.DataFrame({'Name':['Scanner'],'Price':[3500],'Quantity':[69]})\n",
    "df=pd.concat([df,scanner],ignore_index='True')\n",
    "df['Total']=df['Price']*df['Quantity']\n",
    "df=df.drop(columns=['Quantity'])\n",
    "print(df)"
   ]
  },
  {
   "cell_type": "markdown",
   "metadata": {},
   "source": [
    "# q7"
   ]
  },
  {
   "cell_type": "code",
   "execution_count": null,
   "metadata": {},
   "outputs": [
    {
     "name": "stdout",
     "output_type": "stream",
     "text": [
      "         Name  Designation  Salary  Bonus\n",
      "E101     Atul      Manager   56000  15000\n",
      "E102    Shyam      Analyst   35000  10000\n",
      "E103    Anmol  Storekeeper   20000   8000\n",
      "E104  Sheetal      Manager   60000  18000\n",
      "E105    Dhruv      Analyst  380000  12000\n",
      "         Name  Designation  Salary\n",
      "E101     Atul      Manager   56000\n",
      "E102    Shyam      Analyst   35000\n",
      "E103    Anmol  Storekeeper   20000\n",
      "E104  Sheetal      Manager   60000\n",
      "E105    Dhruv      Analyst  380000\n",
      "      Designation\n",
      "E101      Manager\n",
      "E102      Analyst\n",
      "E103  Storekeeper\n",
      "E104      Manager\n",
      "E105      Analyst\n",
      "         Name  Designation  Salary  Bonus\n",
      "E102    Shyam      Analyst   35000  10000\n",
      "E103    Anmol  Storekeeper   20000   8000\n",
      "E104  Sheetal      Manager   60000  18000\n",
      "         Name Designation  Salary  Bonus\n",
      "E101     Atul     Manager   56000  15000\n",
      "E104  Sheetal     Manager   60000  18000\n",
      "E105    Dhruv     Analyst  380000  12000\n"
     ]
    }
   ],
   "source": [
    "Employee = { 'Name': ['Atul', 'Shyam', 'Anmol', 'Sheetal', 'Dhruv'], 'Designation': ['Manager', 'Analyst', 'Storekeeper', 'Manager', 'Analyst'], 'Salary': [56000, 35000, 20000, 60000, 380000], 'Bonus': [15000, 10000, 8000, 18000, 12000] }\n",
    "e=pd.DataFrame(Employee,index=['E101','E102','E103','E104','E105'])\n",
    "print(e)\n",
    "print(e.loc[: ,['Name','Designation','Salary']])\n",
    "print(e.iloc[: ,1:2])\n",
    "print(e.iloc[1:4,:])\n",
    "print(e[e['Salary']>35000])"
   ]
  },
  {
   "cell_type": "markdown",
   "metadata": {},
   "source": [
    "# Q8"
   ]
  },
  {
   "cell_type": "code",
   "execution_count": null,
   "metadata": {},
   "outputs": [
    {
     "name": "stdout",
     "output_type": "stream",
     "text": [
      "     Age  Gender  TotalBilirubin  DirectBilirubin  TotalPro-teins  Albumin  \\\n",
      "232   33    Male             2.0              1.4            2110       48   \n",
      "127   58  Female             1.7              0.8            1896       61   \n",
      "428   73    Male             1.9              0.7            1750      102   \n",
      "115   48    Male             0.7              0.1            1630       74   \n",
      "76    68  Female             0.6              0.1            1620       95   \n",
      "\n",
      "     A/G ratio  SGPT  SGOT  Alkphos  Class  \n",
      "232         89   6.2   3.0     0.90      1  \n",
      "127         83   8.0   3.9     0.95      1  \n",
      "428        141   5.5   2.0     0.50      1  \n",
      "115        149   5.3   2.0     0.60      1  \n",
      "76         127   4.6   2.1     0.80      1  \n"
     ]
    }
   ],
   "source": [
    "data = pd.read_csv('https://archive.ics.uci.edu/static/public/225/ilpd+indian+liver+patient+dataset.zip')\n",
    "data.columns=[ 'Age', 'Gender', 'TotalBilirubin', 'DirectBilirubin', 'TotalPro-teins', 'Albumin', 'A/G ratio', 'SGPT', 'SGOT','Alkphos','Class']\n",
    "# print(data.head())\n",
    "# print(data.size)\n",
    "# print(data.ndim)\n",
    "# print(data.info())\n",
    "# for i in data.columns:\n",
    "#     if i=='Age' or i=='Gender':\n",
    "#         print(data[i])\n",
    "# print(data[data['Age']>40])\n",
    "counter=data['Gender'].value_counts()\n",
    "total=counter['Male']+counter['Female']\n",
    "# print((counter['Female']/total)*100)\n",
    "# data.info()\n",
    "# print(data['TotalPro-teins'].min())\n",
    "# print(data['TotalPro-teins'].nsmallest(3))\n",
    "print(data.sort_values(by='TotalPro-teins',ascending=False).head(5))\n",
    "\n"
   ]
  }
 ],
 "metadata": {
  "kernelspec": {
   "display_name": "base",
   "language": "python",
   "name": "python3"
  },
  "language_info": {
   "codemirror_mode": {
    "name": "ipython",
    "version": 3
   },
   "file_extension": ".py",
   "mimetype": "text/x-python",
   "name": "python",
   "nbconvert_exporter": "python",
   "pygments_lexer": "ipython3",
   "version": "3.11.7"
  }
 },
 "nbformat": 4,
 "nbformat_minor": 2
}
